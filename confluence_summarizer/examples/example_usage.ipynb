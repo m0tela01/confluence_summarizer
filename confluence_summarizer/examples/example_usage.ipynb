{
 "cells": [
  {
   "cell_type": "markdown",
   "metadata": {},
   "source": [
    "# Confluence Summarizer Examples\n",
    "\n",
    "This notebook demonstrates how to use the Confluence Summarizer tool to generate and compare summaries of Confluence content. The examples show various features and use cases of the tool.\n",
    "\n",
    "## Prerequisites\n",
    "\n",
    "Before running these examples, ensure you have:\n",
    "1. Installed the package with `pip install -e \".[dev]\"`\n",
    "2. Set up your Azure OpenAI account and obtained necessary credentials\n",
    "3. Set up your Confluence account and obtained an API token\n",
    "4. Have access to the Confluence space you want to summarize\n",
    "\n",
    "## Setup\n",
    "\n",
    "First, let's set up our environment by importing required modules and setting environment variables."
   ]
  },
  {
   "cell_type": "code",
   "execution_count": null,
   "metadata": {},
   "source": [
    "import os\n",
    "import time\n",
    "from pathlib import Path\n",
    "from datetime import datetime\n",
    "\n",
    "from confluence_summarizer.agent.summarizer import ConfluenceSummarizerAgent\n",
    "from confluence_summarizer.config import Config\n",
    "\n",
    "# Set up environment variables\n",
    "os.environ[\"AZURE_OPENAI_API_KEY\"] = \"your-api-key\"\n",
    "os.environ[\"AZURE_OPENAI_DEPLOYMENT_NAME\"] = \"your-deployment-name\"\n",
    "os.environ[\"AZURE_OPENAI_ENDPOINT\"] = \"your-endpoint-url\"\n",
    "os.environ[\"CONFLUENCE_URL\"] = \"https://your-domain.atlassian.net\"\n",
    "os.environ[\"CONFLUENCE_USERNAME\"] = \"your-email@example.com\"\n",
    "os.environ[\"CONFLUENCE_API_TOKEN\"] = \"your-api-token\"\n",
    "os.environ[\"CONFLUENCE_SPACE_KEY\"] = \"TEAM\"\n",
    "\n",
    "# Initialize the agent\n",
    "config = Config()\n",
    "agent = ConfluenceSummarizerAgent(config)"
   ]
  },
  {
   "cell_type": "markdown",
   "metadata": {},
   "source": [
    "## Example 1: Basic Summary Generation\n",
    "\n",
    "This example demonstrates the simplest way to generate a summary of a Confluence page. We'll:\n",
    "- Generate a summary of a single page\n",
    "- Include child pages in the summary\n",
    "- Display the summary and its metadata\n",
    "\n",
    "The metadata includes information such as:\n",
    "- Page title and ID\n",
    "- Author and last modifier\n",
    "- Creation and modification dates\n",
    "- URL and space key"
   ]
  },
  {
   "cell_type": "code",
   "execution_count": null,
   "metadata": {},
   "source": [
    "result = agent.run(\n",
    "    page_id=\"123456\",\n",
    "    include_children=True\n",
    ")\n",
    "\n",
    "print(\"Summary:\")\n",
    "print(result['summary'])\n",
    "print(\"\\nMetadata:\")\n",
    "for key, value in result['metadata'].items():\n",
    "    print(f\"{key}: {value}\")"
   ]
  },
  {
   "cell_type": "markdown",
   "metadata": {},
   "source": [
    "## Example 2: Technical Summary with Context\n",
    "\n",
    "This example shows how to generate a technical-focused summary by:\n",
    "- Using the \"technical\" persona\n",
    "- Providing specific context for the summary\n",
    "- Including child pages for comprehensive coverage\n",
    "\n",
    "The technical persona focuses on:\n",
    "- Implementation details\n",
    "- Technical architecture\n",
    "- Code examples and patterns\n",
    "- Dependencies and requirements"
   ]
  },
  {
   "cell_type": "code",
   "execution_count": null,
   "metadata": {},
   "source": [
    "result = agent.run(\n",
    "    page_id=\"123456\",\n",
    "    persona=\"technical\",\n",
    "    context=\"Focus on implementation details, technical architecture, and code examples\",\n",
    "    include_children=True\n",
    ")\n",
    "\n",
    "print(\"Technical Summary:\")\n",
    "print(result['summary'])\n",
    "print(\"\\nExport Path:\")\n",
    "print(result['export_path'])"
   ]
  },
  {
   "cell_type": "markdown",
   "metadata": {},
   "source": [
    "## Example 3: Business-Focused Summary\n",
    "\n",
    "This example demonstrates generating a business-oriented summary by:\n",
    "- Using the \"business\" persona\n",
    "- Focusing on business objectives and ROI\n",
    "- Excluding child pages for a more concise summary\n",
    "\n",
    "The business persona emphasizes:\n",
    "- Strategic implications\n",
    "- Business value\n",
    "- Cost considerations\n",
    "- Timeline and milestones"
   ]
  },
  {
   "cell_type": "code",
   "execution_count": null,
   "metadata": {},
   "source": [
    "result = agent.run(\n",
    "    page_id=\"123456\",\n",
    "    persona=\"business\",\n",
    "    context=\"Focus on business objectives, ROI, and strategic implications\",\n",
    "    include_children=False\n",
    ")\n",
    "\n",
    "print(\"Business Summary:\")\n",
    "print(result['summary'])"
   ]
  },
  {
   "cell_type": "markdown",
   "metadata": {},
   "source": [
    "## Example 4: Comparing Summaries\n",
    "\n",
    "This example shows how to compare different summaries of the same content by:\n",
    "- Generating summaries with different personas\n",
    "- Comparing their content and structure\n",
    "- Analyzing the differences\n",
    "\n",
    "The comparison includes:\n",
    "- Statistical analysis of changes\n",
    "- Content differences highlighting\n",
    "- Metadata comparison"
   ]
  },
  {
   "cell_type": "code",
   "execution_count": null,
   "metadata": {},
   "source": [
    "# Generate two different summaries\n",
    "technical_summary = agent.run(\n",
    "    page_id=\"123456\",\n",
    "    persona=\"technical\",\n",
    "    context=\"Focus on technical implementation\"\n",
    ")\n",
    "\n",
    "business_summary = agent.run(\n",
    "    page_id=\"123456\",\n",
    "    persona=\"business\",\n",
    "    context=\"Focus on business value\"\n",
    ")\n",
    "\n",
    "# Compare the summaries\n",
    "comparison = agent.compare_summaries(\n",
    "    technical_summary['export_path'],\n",
    "    business_summary['export_path']\n",
    ")\n",
    "\n",
    "print(\"Comparison Statistics:\")\n",
    "for key, value in comparison['stats'].items():\n",
    "    print(f\"{key}: {value}\")\n",
    "\n",
    "print(\"\\nContent Differences:\")\n",
    "print(comparison['content_diff'])"
   ]
  },
  {
   "cell_type": "markdown",
   "metadata": {},
   "source": [
    "## Example 5: Tracking Changes Over Time\n",
    "\n",
    "This example demonstrates how to track changes in documentation over time by:\n",
    "- Generating summaries at different times\n",
    "- Comparing versions\n",
    "- Analyzing what has changed\n",
    "\n",
    "This is useful for:\n",
    "- Documentation maintenance\n",
    "- Change tracking\n",
    "- Version control\n",
    "- Audit trails"
   ]
  },
  {
   "cell_type": "code",
   "execution_count": null,
   "metadata": {},
   "source": [
    "# Generate initial summary\n",
    "initial_summary = agent.run(\n",
    "    page_id=\"123456\",\n",
    "    persona=\"technical\"\n",
    ")\n",
    "\n",
    "# Wait for some time (simulating page updates)\n",
    "time.sleep(5)\n",
    "\n",
    "# Generate updated summary\n",
    "updated_summary = agent.run(\n",
    "    page_id=\"123456\",\n",
    "    persona=\"technical\"\n",
    ")\n",
    "\n",
    "# Compare the summaries\n",
    "changes = agent.compare_summaries(\n",
    "    initial_summary['export_path'],\n",
    "    updated_summary['export_path']\n",
    ")\n",
    "\n",
    "print(f\"Changes detected between {initial_summary['metadata']['generated_at']} and {updated_summary['metadata']['generated_at']}:\")\n",
    "print(\"\\nMetadata Changes:\")\n",
    "for key, (old, new) in changes['metadata_diff'].items():\n",
    "    if old != new:\n",
    "        print(f\"{key}:\")\n",
    "        print(f\"  - Old: {old}\")\n",
    "        print(f\"  + New: {new}\")"
   ]
  },
  {
   "cell_type": "markdown",
   "metadata": {},
   "source": [
    "## Example 6: Custom Persona Summary\n",
    "\n",
    "This example shows how to create and use a custom persona by:\n",
    "- Defining a new persona (security-focused)\n",
    "- Specifying its characteristics\n",
    "- Using it for summarization\n",
    "\n",
    "Custom personas can be created for various roles:\n",
    "- Security analysts\n",
    "- Product managers\n",
    "- QA engineers\n",
    "- Compliance officers"
   ]
  },
  {
   "cell_type": "code",
   "execution_count": null,
   "metadata": {},
   "source": [
    "# Define a custom persona for security-focused summaries\n",
    "security_persona = {\n",
    "    \"name\": \"security\",\n",
    "    \"description\": \"Security-focused summary emphasizing security implications and best practices\",\n",
    "    \"instructions\": \"Focus on security aspects, vulnerabilities, and compliance requirements\"\n",
    "}\n",
    "\n",
    "# Generate a security-focused summary\n",
    "result = agent.run(\n",
    "    page_id=\"123456\",\n",
    "    persona=\"security\",\n",
    "    context=\"Analyze security implications and compliance requirements\",\n",
    "    include_children=True\n",
    ")\n",
    "\n",
    "print(\"Security-Focused Summary:\")\n",
    "print(result['summary'])"
   ]
  },
  {
   "cell_type": "markdown",
   "metadata": {},
   "source": [
    "## Example 7: Batch Processing Multiple Pages\n",
    "\n",
    "This example demonstrates how to process multiple pages in batch by:\n",
    "- Defining a list of page IDs\n",
    "- Processing them sequentially\n",
    "- Handling errors gracefully\n",
    "\n",
    "Batch processing is useful for:\n",
    "- Documentation migrations\n",
    "- Bulk updates\n",
    "- Space-wide analysis\n",
    "- Regular documentation reviews"
   ]
  },
  {
   "cell_type": "code",
   "execution_count": null,
   "metadata": {},
   "source": [
    "# List of page IDs to process\n",
    "page_ids = [\"123456\", \"789012\", \"345678\"]\n",
    "\n",
    "# Process each page\n",
    "results = {}\n",
    "for page_id in page_ids:\n",
    "    try:\n",
    "        result = agent.run(\n",
    "            page_id=page_id,\n",
    "            persona=\"technical\",\n",
    "            include_children=True\n",
    "        )\n",
    "        results[page_id] = result\n",
    "        print(f\"Successfully processed page {page_id}\")\n",
    "    except Exception as e:\n",
    "        print(f\"Error processing page {page_id}: {str(e)}\")\n",
    "\n",
    "# Display results\n",
    "for page_id, result in results.items():\n",
    "    print(f\"\\nPage {page_id}:\")\n",
    "    print(f\"Summary: {result['summary'][:200]}...\")  # Show first 200 characters\n",
    "    print(f\"Exported to: {result['export_path']}\")"
   ]
  },
  {
   "cell_type": "markdown",
   "metadata": {},
   "source": [
    "## Next Steps\n",
    "\n",
    "Now that you've seen these examples, you can:\n",
    "1. Replace the placeholder page IDs with your actual Confluence page IDs\n",
    "2. Customize the personas and contexts for your needs\n",
    "3. Create your own batch processing workflows\n",
    "4. Set up automated documentation reviews\n",
    "\n",
    "For more information, check the project documentation and README file."
   ]
  }
 ],
 "metadata": {
  "kernelspec": {
   "display_name": "Python 3",
   "language": "python",
   "name": "python3"
  },
  "language_info": {
   "codemirror_mode": {
    "name": "ipython",
    "version": 3
   },
   "file_extension": ".py",
   "mimetype": "text/x-python",
   "name": "python",
   "nbconvert_exporter": "python",
   "pygments_lexer": "ipython3",
   "version": "3.8.0"
  }
 },
 "nbformat": 4,
 "nbformat_minor": 4
}